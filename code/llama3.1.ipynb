{
 "cells": [
  {
   "cell_type": "code",
   "execution_count": 1,
   "id": "08bc3ff7-d8d6-4f87-b3e4-b77ed550664c",
   "metadata": {},
   "outputs": [],
   "source": [
    "import os\n",
    "import torch\n",
    "from transformers import (\n",
    "    AutoModelForCausalLM,\n",
    "    AutoTokenizer,\n",
    "    BitsAndBytesConfig,\n",
    "    HfArgumentParser,\n",
    "    TrainingArguments,\n",
    "    pipeline,\n",
    "    logging,\n",
    ")\n",
    "from peft import LoraConfig, PeftModel\n",
    "from trl import SFTTrainer"
   ]
  },
  {
   "cell_type": "code",
   "execution_count": 3,
   "id": "a0adc505-d9f9-4be3-9373-2f923af46c3a",
   "metadata": {},
   "outputs": [],
   "source": [
    "# set the model info\n",
    "base_model_id = \"meta-llama/Meta-Llama-3.1-8B-Instruct\"\n",
    "dataset_name = \"arxiv_papers\"\n",
    "new_model = \"/project/models/NV-llama3.1-8b-Arxiv\"\n",
    "api_key = \"\""
   ]
  },
  {
   "cell_type": "code",
   "execution_count": 4,
   "id": "e47beadb-6166-476c-9f62-f85a4a97452b",
   "metadata": {},
   "outputs": [
    {
     "data": {
      "application/vnd.jupyter.widget-view+json": {
       "model_id": "df702a132b324a9ca29a200d8676421a",
       "version_major": 2,
       "version_minor": 0
      },
      "text/plain": [
       "Loading checkpoint shards:   0%|          | 0/4 [00:00<?, ?it/s]"
      ]
     },
     "metadata": {},
     "output_type": "display_data"
    }
   ],
   "source": [
    "# import the model and configure it\n",
    "import torch\n",
    "from transformers import AutoTokenizer, AutoModelForCausalLM, BitsAndBytesConfig\n",
    "\n",
    "# Setup the BitsAndBytesConfig for 8-bit quantization\n",
    "bnb_config = BitsAndBytesConfig(\n",
    "    load_in_4bit=True,  # Load model in 8-bit precision\n",
    "    bnb_4bit_compute_dtype=torch.float16,\n",
    ")\n",
    "\n",
    "tokenizer = AutoTokenizer.from_pretrained(\n",
    "    base_model_id,\n",
    "    token=api_key, \n",
    "    add_eos_token=True,\n",
    "    add_bos_token=True, \n",
    ")\n",
    "tokenizer.pad_token = tokenizer.eos_token\n",
    "\n",
    "model = AutoModelForCausalLM.from_pretrained(base_model_id, \n",
    "                                             token=api_key, \n",
    "                                             quantization_config=bnb_config,\n",
    "                                             cache_dir=\"/project/models\",\n",
    "                                             device_map=\"auto\")"
   ]
  },
  {
   "cell_type": "code",
   "execution_count": 9,
   "id": "3a702c83-59fa-466e-9b5a-a8e3d0af8fbf",
   "metadata": {},
   "outputs": [
    {
     "name": "stderr",
     "output_type": "stream",
     "text": [
      "The attention mask and the pad token id were not set. As a consequence, you may observe unexpected behavior. Please pass your input's `attention_mask` to obtain reliable results.\n",
      "Setting `pad_token_id` to `eos_token_id`:128001 for open-end generation.\n"
     ]
    },
    {
     "name": "stdout",
     "output_type": "stream",
     "text": [
      "system\n",
      "\n",
      "Cutting Knowledge Date: December 2023\n",
      "Today Date: 26 Jul 2024\n",
      "\n",
      "You are a chatbot who well know in finding papers for user's requestuser\n",
      "\n",
      "I want to find a paper discuss about E2MoCase.assistant\n",
      "\n",
      "E2MCASE is an extension of the MCASE (Machine Classification and Application Sentences Extraction) algorithm, which was developed by Hunter et al.\n",
      "\n",
      "However I couldn't find any information on \"E2Mcase\" as it seems like this might be a misspelling or variation of another term such as 'e2mc' or 'E2MC'. \n",
      "\n",
      "But if you're looking for research related to MCASE, here are some possible sources:\n",
      "\n",
      "1. A paper titled \"A Machine Learning Approach to Rule Induction from Molecular Structure\" by John J. McGonigle, James R. Rogers, and others published in Journal of Chemical Information and Computer Sciences.\n",
      "  \n"
     ]
    }
   ],
   "source": [
    "import torch\n",
    "from transformers import AutoTokenizer, AutoModelForCausalLM\n",
    "from peft import PeftModel\n",
    "\n",
    "# Input text for inference\n",
    "input_text = \"I want to find a paper discuss about E2MoCase.\"\n",
    "\n",
    "# We use the tokenizer's chat template to format each message - see https://huggingface.co/docs/transformers/main/en/chat_templating\n",
    "messages = [\n",
    "    {\n",
    "        \"role\": \"system\",\n",
    "        \"content\": \"You are a chatbot who well know in finding papers for user's request\",\n",
    "    },\n",
    "    {\"role\": \"user\", \"content\": input_text},\n",
    "]\n",
    "\n",
    "\n",
    "\n",
    "\n",
    "# Tokenize the input text\n",
    "#inputs = tokenizer(input_text, return_tensors=\"pt\").to(\"cuda\")  # Move to GPU if available\n",
    "\n",
    "# prepare the messages for the model\n",
    "input_ids = tokenizer.apply_chat_template(messages, truncation=True, add_generation_prompt=True, return_tensors=\"pt\").to(\"cuda\")\n",
    "\n",
    "# Generate text with the fine-tuned LoRA model\n",
    "with torch.no_grad():  # Disable gradient computation during inference\n",
    "    output = model.generate(\n",
    "        input_ids,      # Tokenized input\n",
    "        max_length=200,           # Max length of the output sequence\n",
    "        num_return_sequences=1,   # Number of sequences to return\n",
    "        temperature=0.1,          # Adjust temperature for randomness\n",
    "        top_p=0.95,               # Top-p (nucleus sampling)\n",
    "        repetition_penalty=1.2     # Penalize repetitive phrases\n",
    "    )\n",
    "\n",
    "# Decode the generated token IDs to text\n",
    "generated_text = tokenizer.decode(output[0], skip_special_tokens=True)\n",
    "\n",
    "# Print the generated text\n",
    "print(generated_text)"
   ]
  },
  {
   "cell_type": "code",
   "execution_count": null,
   "id": "ff7b9ebd-6853-4f2c-a57b-f2d00ad171a3",
   "metadata": {},
   "outputs": [],
   "source": []
  }
 ],
 "metadata": {
  "kernelspec": {
   "display_name": "Python 3 (ipykernel)",
   "language": "python",
   "name": "python3"
  },
  "language_info": {
   "codemirror_mode": {
    "name": "ipython",
    "version": 3
   },
   "file_extension": ".py",
   "mimetype": "text/x-python",
   "name": "python",
   "nbconvert_exporter": "python",
   "pygments_lexer": "ipython3",
   "version": "3.10.12"
  }
 },
 "nbformat": 4,
 "nbformat_minor": 5
}
